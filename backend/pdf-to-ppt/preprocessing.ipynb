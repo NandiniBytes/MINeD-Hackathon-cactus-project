{
 "cells": [
  {
   "cell_type": "code",
   "execution_count": 1,
   "metadata": {},
   "outputs": [],
   "source": [
    "import os\n",
    "import fitz  # PyMuPDF\n",
    "import json\n"
   ]
  },
  {
   "cell_type": "code",
   "execution_count": 2,
   "metadata": {},
   "outputs": [],
   "source": [
    "# Set folder paths (Change these to your actual paths)\n",
    "pdf_folder = r\"C:\\Users\\Admin\\Desktop\\uni\\MINeD Hackathon\\Sample PDFs\"  # Folder containing PDFs\n",
    "output_folder = r\"C:\\Users\\Admin\\Desktop\\uni\\MINeD Hackathon\\JSON\"  # Where JSON files will be saved\n",
    "\n",
    "# Ensure output folder exists\n",
    "os.makedirs(output_folder, exist_ok=True)\n"
   ]
  },
  {
   "cell_type": "code",
   "execution_count": 3,
   "metadata": {},
   "outputs": [],
   "source": [
    "# Function to extract text from a PDF\n",
    "def extract_text_from_pdf(pdf_path):\n",
    "    doc = fitz.open(pdf_path)\n",
    "    text = \"\"\n",
    "    for page in doc:\n",
    "        text += page.get_text(\"text\") + \"\\n\"\n",
    "    return text.strip()  # Remove extra spaces\n"
   ]
  },
  {
   "cell_type": "code",
   "execution_count": 4,
   "metadata": {},
   "outputs": [
    {
     "name": "stdout",
     "output_type": "stream",
     "text": [
      "✅ Processed: 1-s2.0-S8755461525000027-main.pdf → JSON saved at: C:\\Users\\Admin\\Desktop\\uni\\MINeD Hackathon\\JSON\\1-s2.0-S8755461525000027-main.json\n",
      "✅ Processed: 2312.10997v5.pdf → JSON saved at: C:\\Users\\Admin\\Desktop\\uni\\MINeD Hackathon\\JSON\\2312.10997v5.json\n",
      "✅ Processed: Addressing_the_Productivity_Paradox_in_Healthcare_with_Retrieval_Augmented_Generative_AI_Chatbots.pdf → JSON saved at: C:\\Users\\Admin\\Desktop\\uni\\MINeD Hackathon\\JSON\\Addressing_the_Productivity_Paradox_in_Healthcare_with_Retrieval_Augmented_Generative_AI_Chatbots.json\n",
      "✅ Processed: Implementation_of_Retrieval-Augmented_Generation_RAG_in_Chatbot_Systems_for_Enhanced_Real-Time_Customer_Support_in_E-Commerce.pdf → JSON saved at: C:\\Users\\Admin\\Desktop\\uni\\MINeD Hackathon\\JSON\\Implementation_of_Retrieval-Augmented_Generation_RAG_in_Chatbot_Systems_for_Enhanced_Real-Time_Customer_Support_in_E-Commerce.json\n",
      "✅ Processed: Integrating_Generative_AI_for_Enhanced_Automation_in_System_Design_Processes.pdf → JSON saved at: C:\\Users\\Admin\\Desktop\\uni\\MINeD Hackathon\\JSON\\Integrating_Generative_AI_for_Enhanced_Automation_in_System_Design_Processes.json\n",
      "\n",
      "🎉 All PDFs processed successfully!\n"
     ]
    }
   ],
   "source": [
    "# Loop through all PDFs in the folder\n",
    "for filename in os.listdir(pdf_folder):\n",
    "    if filename.endswith(\".pdf\"):  # Process only PDFs\n",
    "        pdf_path = os.path.join(pdf_folder, filename)\n",
    "        extracted_text = extract_text_from_pdf(pdf_path)\n",
    "\n",
    "        # Save extracted text as JSON\n",
    "        output_json = {\n",
    "            \"filename\": filename,\n",
    "            \"text\": extracted_text\n",
    "        }\n",
    "        json_path = os.path.join(output_folder, f\"{os.path.splitext(filename)[0]}.json\")\n",
    "\n",
    "        with open(json_path, \"w\", encoding=\"utf-8\") as json_file:\n",
    "            json.dump(output_json, json_file, indent=4)\n",
    "\n",
    "        print(f\"✅ Processed: {filename} → JSON saved at: {json_path}\")\n",
    "\n",
    "print(\"\\n🎉 All PDFs processed successfully!\")\n"
   ]
  }
 ],
 "metadata": {
  "kernelspec": {
   "display_name": "Python 3",
   "language": "python",
   "name": "python3"
  },
  "language_info": {
   "codemirror_mode": {
    "name": "ipython",
    "version": 3
   },
   "file_extension": ".py",
   "mimetype": "text/x-python",
   "name": "python",
   "nbconvert_exporter": "python",
   "pygments_lexer": "ipython3",
   "version": "3.12.4"
  }
 },
 "nbformat": 4,
 "nbformat_minor": 2
}
